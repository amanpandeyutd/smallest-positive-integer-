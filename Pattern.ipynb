{
 "cells": [
  {
   "cell_type": "markdown",
   "metadata": {
    "toc": true
   },
   "source": [
    "<h1>Table of Contents<span class=\"tocSkip\"></span></h1>\n",
    "<div class=\"toc\"><ul class=\"toc-item\"></ul></div>"
   ]
  },
  {
   "cell_type": "markdown",
   "metadata": {},
   "source": [
    "#Patten Printing\n",
    "\n",
    "Enter series length:6\n",
    "     1\n",
    "    111\n",
    "   11111\n",
    "  1111111\n",
    " 111111111\n",
    "11111111111\n"
   ]
  },
  {
   "cell_type": "code",
   "execution_count": 2,
   "metadata": {},
   "outputs": [
    {
     "name": "stdout",
     "output_type": "stream",
     "text": [
      "     1\n",
      "    111\n",
      "   11111\n",
      "  1111111\n",
      " 111111111\n",
      "11111111111\n"
     ]
    }
   ],
   "source": [
    "\n",
    "def patern(l):\n",
    "    for x in range(0,l):\n",
    "        str = \"\"\n",
    "        for y in range(x,l-1):\n",
    "            str = str + \" \"\n",
    "        for z in range(0,x+1):\n",
    "            str = str + '1'\n",
    "        for k in range (0,x):\n",
    "            str = str + '1'\n",
    "        print(str)\n",
    "\n",
    "#k can be assigned to input() function to take input from user\n",
    "k= 6\n",
    "k = int(k)\n",
    "patern(k)"
   ]
  }
 ],
 "metadata": {
  "kernelspec": {
   "display_name": "Python 3",
   "language": "python",
   "name": "python3"
  },
  "language_info": {
   "codemirror_mode": {
    "name": "ipython",
    "version": 3
   },
   "file_extension": ".py",
   "mimetype": "text/x-python",
   "name": "python",
   "nbconvert_exporter": "python",
   "pygments_lexer": "ipython3",
   "version": "3.7.4"
  },
  "toc": {
   "base_numbering": 1,
   "nav_menu": {},
   "number_sections": true,
   "sideBar": true,
   "skip_h1_title": false,
   "title_cell": "Table of Contents",
   "title_sidebar": "Contents",
   "toc_cell": true,
   "toc_position": {},
   "toc_section_display": true,
   "toc_window_display": true
  }
 },
 "nbformat": 4,
 "nbformat_minor": 2
}
